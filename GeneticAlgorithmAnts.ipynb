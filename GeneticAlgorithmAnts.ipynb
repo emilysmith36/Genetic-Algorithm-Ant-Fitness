{
  "nbformat": 4,
  "nbformat_minor": 0,
  "metadata": {
    "colab": {
      "provenance": [],
      "authorship_tag": "ABX9TyMVF7F5xlvPxtWZnQbyeKgW",
      "include_colab_link": true
    },
    "kernelspec": {
      "name": "python3",
      "display_name": "Python 3"
    },
    "language_info": {
      "name": "python"
    }
  },
  "cells": [
    {
      "cell_type": "markdown",
      "metadata": {
        "id": "view-in-github",
        "colab_type": "text"
      },
      "source": [
        "<a href=\"https://colab.research.google.com/github/emilysmith36/Genetic-Algorithm-Ant-Fitness/blob/main/GeneticAlgorithmAnts.ipynb\" target=\"_parent\"><img src=\"https://colab.research.google.com/assets/colab-badge.svg\" alt=\"Open In Colab\"/></a>"
      ]
    },
    {
      "cell_type": "code",
      "execution_count": 1,
      "metadata": {
        "id": "LR061G05K0Sb"
      },
      "outputs": [],
      "source": [
        "from IPython.display import HTML\n",
        "shell = get_ipython()\n",
        "\n",
        "def adjust_font_size():\n",
        "  display(HTML(''' <style>\n",
        "    body {\n",
        "      font_size: 32px;\n",
        "    }\n",
        "    '''\n",
        "    ))\n",
        "if adjust_font_size not in shell.events.callbacks['pre_execute']:\n",
        "  shell.events.register('pre_execute', adjust_font_size)"
      ]
    },
    {
      "cell_type": "code",
      "source": [
        "import random"
      ],
      "metadata": {
        "colab": {
          "base_uri": "https://localhost:8080/",
          "height": 17
        },
        "id": "2ZYgN-XRK6Sn",
        "outputId": "6b72bdc8-efc6-4bd6-dd76-87f7eb6129af"
      },
      "execution_count": 2,
      "outputs": [
        {
          "output_type": "display_data",
          "data": {
            "text/plain": [
              "<IPython.core.display.HTML object>"
            ],
            "text/html": [
              " <style>\n",
              "    body {\n",
              "      font_size: 32px;\n",
              "    }\n",
              "    "
            ]
          },
          "metadata": {}
        }
      ]
    },
    {
      "cell_type": "code",
      "source": [
        "bases = ['S', 'T', 'D', 'H', 'F', 'A']\n",
        "# S = sensitivity to smell of sugar\n",
        "# T = sensitivity to smell of salt\n",
        "# D = ant can travel 50yds from colony\n",
        "# H = ant can travel 20yds from colony\n",
        "# F = increased fertility\n",
        "# A = average fertility\n",
        "class Ant:\n",
        "    def __init__(self):\n",
        "        self.fitness = 0\n",
        "        self.genome = []\n",
        "        for i in range(100):  #creating genomes for all ants\n",
        "          self.genome.append(random.choice(bases))\n",
        "        #print(\"self.genome = \", self.genome)\n",
        "\n",
        "    def mutate(self):\n",
        "        index = random.randint(0, len(self.genome) - 1)\n",
        "        self.genome[index] = random.choice(bases) #creating mutations within genes\n",
        "\n",
        "    def uniCross(self, other):\n",
        "      #uniform crossover\n",
        "        for i in range(len(self.genome)):\n",
        "            if random.random() < 0.5:\n",
        "                self.genome[i], other.genome[i] = other.genome[i], self.genome[i]\n",
        "\n",
        "    def calcFitness(self):\n",
        "      #calculating the fitness\n",
        "      self.fitness = 0\n",
        "      for i in range(0, len(self.genome)):\n",
        "        if self.genome[i] == 'S':\n",
        "          self.fitness += 1\n",
        "        elif self.genome[i] == 'D':\n",
        "          self.fitness += 1\n",
        "        elif self.genome[i] == 'F':\n",
        "          self.fitness += 1\n",
        "        elif self.genome[i] == 'T':\n",
        "          self.fitness -= 1`\n",
        "\n",
        "\n",
        "    def copy(self):\n",
        "      #copies ant genome and fitness, then returns the copy\n",
        "        clone = Ant()\n",
        "        clone.genome = self.genome[:]\n",
        "        clone.fitness = self.fitness\n",
        "        return clone\n",
        "\n",
        "    def __str__(self):\n",
        "        return f\"Fitness: {self.fitness}\"\n",
        "\n",
        "\n"
      ],
      "metadata": {
        "colab": {
          "base_uri": "https://localhost:8080/",
          "height": 17
        },
        "id": "Y7WYEaSYLBZN",
        "outputId": "aff24d24-72ea-47a4-8852-0a505b4e87f5"
      },
      "execution_count": 3,
      "outputs": [
        {
          "output_type": "display_data",
          "data": {
            "text/plain": [
              "<IPython.core.display.HTML object>"
            ],
            "text/html": [
              " <style>\n",
              "    body {\n",
              "      font_size: 32px;\n",
              "    }\n",
              "    "
            ]
          },
          "metadata": {}
        }
      ]
    },
    {
      "cell_type": "code",
      "source": [
        "popSize = 20\n",
        "\n",
        "class Population:\n",
        "    def __init__(self):\n",
        "        self.population = [Ant() for _ in range(popSize)] #creating ants for the population\n",
        "        self.calcStats()\n",
        "\n",
        "    def calcStats(self):\n",
        "        #update the population fitness\n",
        "        for ant in self.population:\n",
        "            ant.calcFitness()\n",
        "        self.best = max(self.population, key=lambda a: a.fitness) #finding best fitness from the set of self.population\n",
        "        self.avgFit = sum(a.fitness for a in self.population) / popSize  #calculating average fitness all in one line\n",
        "\n",
        "    def parent_select(self):\n",
        "        #tournament style selection\n",
        "        candidates = random.sample(self.population, 6) #select 6 random candidates\n",
        "        return max(candidates, key=lambda a: a.fitness) #return the highest fitness of candidates, key=lambda a: a.fitness compares the candidates' fitness and returns the highest fitness which then that ant is used as the parent for unicross\n",
        "\n",
        "    def generation(self):\n",
        "        #next population being declared, crossed, mutated, and assigned to self.population\n",
        "        new_population = [] #empty array for the population\n",
        "        for _ in range(popSize // 2): #dividing for whole number\n",
        "            p1 = self.parent_select().copy() #selection of genes\n",
        "            p2 = self.parent_select().copy() #selection of genes\n",
        "            p1.mutate() #mutating genes of p1\n",
        "            p2.mutate() #mutating genes of p2\n",
        "            p1.uniCross(p2) #mixing those genes to new offspring\n",
        "            new_population.extend([p1, p2]) #appending both at same time\n",
        "        self.population = new_population #assigning the current population the values of new_population\n",
        "        self.calcStats() #calculating stats of the population\n",
        "\n",
        "    def print_population(self):\n",
        "        #for ant in self.population:\n",
        "            #print(ant)\n",
        "        print(\"Best Fitness: \", self.best.fitness)\n",
        "\n",
        "\n"
      ],
      "metadata": {
        "colab": {
          "base_uri": "https://localhost:8080/",
          "height": 17
        },
        "id": "yPM1eet8MOi3",
        "outputId": "389a9b1a-94fa-4deb-b630-8f758e4cd70b"
      },
      "execution_count": 6,
      "outputs": [
        {
          "output_type": "display_data",
          "data": {
            "text/plain": [
              "<IPython.core.display.HTML object>"
            ],
            "text/html": [
              " <style>\n",
              "    body {\n",
              "      font_size: 32px;\n",
              "    }\n",
              "    "
            ]
          },
          "metadata": {}
        }
      ]
    },
    {
      "cell_type": "code",
      "source": [
        "# Running the Genetic Algorithm\n",
        "pop = Population()\n",
        "generations = 20\n",
        "\n",
        "for gen in range(generations):\n",
        "    print(\"Generation: \", (gen+1))\n",
        "    pop.generation()\n",
        "    pop.print_population()"
      ],
      "metadata": {
        "colab": {
          "base_uri": "https://localhost:8080/",
          "height": 711
        },
        "id": "jX8rASBtMMZ2",
        "outputId": "f3181476-4a85-42c5-f79c-16b5b619bf2c"
      },
      "execution_count": 10,
      "outputs": [
        {
          "output_type": "display_data",
          "data": {
            "text/plain": [
              "<IPython.core.display.HTML object>"
            ],
            "text/html": [
              " <style>\n",
              "    body {\n",
              "      font_size: 32px;\n",
              "    }\n",
              "    "
            ]
          },
          "metadata": {}
        },
        {
          "output_type": "stream",
          "name": "stdout",
          "text": [
            "Generation:  1\n",
            "Best Fitness:  53\n",
            "Generation:  2\n",
            "Best Fitness:  56\n",
            "Generation:  3\n",
            "Best Fitness:  60\n",
            "Generation:  4\n",
            "Best Fitness:  62\n",
            "Generation:  5\n",
            "Best Fitness:  63\n",
            "Generation:  6\n",
            "Best Fitness:  66\n",
            "Generation:  7\n",
            "Best Fitness:  68\n",
            "Generation:  8\n",
            "Best Fitness:  68\n",
            "Generation:  9\n",
            "Best Fitness:  70\n",
            "Generation:  10\n",
            "Best Fitness:  71\n",
            "Generation:  11\n",
            "Best Fitness:  73\n",
            "Generation:  12\n",
            "Best Fitness:  73\n",
            "Generation:  13\n",
            "Best Fitness:  74\n",
            "Generation:  14\n",
            "Best Fitness:  76\n",
            "Generation:  15\n",
            "Best Fitness:  78\n",
            "Generation:  16\n",
            "Best Fitness:  79\n",
            "Generation:  17\n",
            "Best Fitness:  81\n",
            "Generation:  18\n",
            "Best Fitness:  83\n",
            "Generation:  19\n",
            "Best Fitness:  85\n",
            "Generation:  20\n",
            "Best Fitness:  86\n"
          ]
        }
      ]
    }
  ]
}